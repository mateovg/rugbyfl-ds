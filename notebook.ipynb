{
 "cells": [
  {
   "cell_type": "markdown",
   "metadata": {},
   "source": [
    "Rugby FL DS"
   ]
  },
  {
   "cell_type": "code",
   "execution_count": 2,
   "metadata": {},
   "outputs": [],
   "source": [
    "import pandas as pd"
   ]
  },
  {
   "cell_type": "code",
   "execution_count": 73,
   "metadata": {},
   "outputs": [],
   "source": [
    "results_df = pd.read_csv('results.csv')\n",
    "\n",
    "def restructure_dataframe(df):\n",
    "    # Create Season column\n",
    "    results_df['Game_Date'] = pd.to_datetime(results_df['Game_Date'])\n",
    "    results_df['Season'] = results_df['Game_Date'].dt.year + 1 * (results_df['Game_Date'].dt.month >= 9)\n",
    "    \n",
    "    new_cols = [\n",
    "        'Game_ID', 'Championship_ID', 'Team_ID', 'Team_Name', 'Team_Score', \n",
    "        'Opponent_ID', 'Opponent_Name', 'Opponent_Score', 'Game_Date', 'Season', 'Is_Home'\n",
    "    ]\n",
    "    home_df = df.rename(columns={\n",
    "        'Home_Club_ID': 'Team_ID',\n",
    "        'Home_Club_AKA': 'Team_Name',\n",
    "        'Home_Score': 'Team_Score',\n",
    "        'Away_Club_ID': 'Opponent_ID',\n",
    "        'Away_Club_AKA': 'Opponent_Name',\n",
    "        'Away_Score': 'Opponent_Score'\n",
    "    })\n",
    "    home_df['Is_Home'] = True\n",
    "\n",
    "    away_df = df.rename(columns={\n",
    "        'Away_Club_ID': 'Team_ID',\n",
    "        'Away_Club_AKA': 'Team_Name',\n",
    "        'Away_Score': 'Team_Score',\n",
    "        'Home_Club_ID': 'Opponent_ID',\n",
    "        'Home_Club_AKA': 'Opponent_Name',\n",
    "        'Home_Score': 'Opponent_Score'\n",
    "    })\n",
    "    away_df['Is_Home'] = False\n",
    "    \n",
    "    restructured_df = pd.concat([home_df, away_df], ignore_index=False)\n",
    "\n",
    "    # Reorder the columns\n",
    "    restructured_df = restructured_df[new_cols]\n",
    "    # Sort the rows by Game_ID\n",
    "    restructured_df = restructured_df.sort_values(by='Game_ID')\n",
    "\n",
    "    return restructured_df\n",
    "\n",
    "# Drop any 0-0 games, has to be OR\n",
    "results_df = results_df[(results_df['Home_Score'] != 0) | (results_df['Away_Score'] != 0)]\n",
    "\n",
    "# Drop any game with scores over 200\n",
    "results_df = results_df[(results_df['Home_Score'] <= 200) & (results_df['Away_Score'] <= 200)]\n",
    "\n",
    "# Drop any games with Miami Sharks\n",
    "results_df = results_df[results_df['Home_Club_AKA'] != 'Miami Sharks']\n",
    "results_df = results_df[results_df['Away_Club_AKA'] != 'Miami Sharks']\n",
    "\n",
    "# Drop games with two out of state\n",
    "results_df = results_df[~((results_df['Home_Club_AKA'] == 'Out of State') & (results_df['Away_Club_AKA'] == 'Out of State'))]\n",
    "\n",
    "results_df = restructure_dataframe(results_df)\n",
    "\n",
    "# Add columns for ELO\n",
    "results_df['Team_ELO'] = 1500\n",
    "results_df['Opponent_ELO'] = 1500\n",
    "results_df['ELO_Change'] = 0\n",
    "\n",
    "# Sort by date\n",
    "results_df = results_df.sort_values(by='Game_Date')\n",
    "\n",
    "results_df.to_csv('rugbyfl_data.csv', index=False)"
   ]
  },
  {
   "cell_type": "code",
   "execution_count": 77,
   "metadata": {},
   "outputs": [],
   "source": [
    "elo_df = pd.read_csv('rugbyfl_elo.csv')"
   ]
  },
  {
   "cell_type": "code",
   "execution_count": 78,
   "metadata": {},
   "outputs": [],
   "source": [
    "# Any team with more than 1800 elo we check out\n",
    "sus = elo_df[elo_df['Team_ELO'] > 1800]"
   ]
  },
  {
   "cell_type": "code",
   "execution_count": 79,
   "metadata": {},
   "outputs": [
    {
     "name": "stdout",
     "output_type": "stream",
     "text": [
      "[8720, 134, 44, 'Out of State', 7, 102, 'Okapi Rugby', 52, '2022-04-28', 2022, False, 1842, 1742, -32]\n",
      "[8884, 146, 102, 'Okapi Rugby', 73, 75, 'Treasure Coast Armada', 5, '2023-02-25', 2023, True, 1801, 1412, 3]\n",
      "[10097, 152, 102, 'Okapi Rugby', 33, 7, 'Tampa Krewe', 5, '2023-03-04', 2023, True, 1804, 1440, 2]\n",
      "[10079, 150, 102, 'Okapi Rugby', 69, 7, 'Tampa Krewe', 0, '2023-03-04', 2023, True, 1806, 1456, 4]\n",
      "[10098, 152, 102, 'Okapi Rugby', 49, 55, 'Boca Raton Juniors', 17, '2023-03-11', 2023, False, 1810, 1655, 17]\n",
      "[10080, 150, 102, 'Okapi Rugby', 28, 55, 'Boca Raton Juniors', 7, '2023-03-16', 2023, False, 1827, 1638, 11]\n",
      "[8901, 146, 102, 'Okapi Rugby', 20, 118, 'SoFlo', 0, '2023-03-18', 2023, False, 1838, 1461, 4]\n",
      "[10066, 146, 102, 'Okapi Rugby', 0, 40, 'Gainesville Hogs', 20, '2023-03-25', 2023, False, 1842, 1506, -35]\n",
      "[10128, 146, 102, 'Okapi Rugby', 26, 117, 'Claymores RFC', 27, '2023-04-01', 2023, True, 1807, 1574, -8]\n",
      "[10100, 152, 102, 'Okapi Rugby', 5, 42, 'KB Rugby Rats', 21, '2023-04-01', 2023, False, 1826, 1630, -21]\n",
      "[10146, 150, 102, 'Okapi Rugby', 54, 96, 'Cardinal Gibbons ', 5, '2023-04-29', 2023, True, 1805, 1655, 10]\n",
      "[10147, 152, 102, 'Okapi Rugby', 5, 42, 'KB Rugby Rats', 10, '2023-05-06', 2023, True, 1815, 1647, -13]\n",
      "[10148, 153, 102, 'Okapi Rugby', 24, 42, 'KB Rugby Rats', 12, '2023-05-06', 2023, False, 1802, 1660, 9]\n",
      "[10149, 150, 102, 'Okapi Rugby', 38, 55, 'Boca Raton Juniors', 5, '2023-05-06', 2023, True, 1811, 1651, 7]\n",
      "[10153, 147, 44, 'Out of State', 21, 6, 'Miami Tridents', 24, '2023-05-06', 2023, False, 1830, 1730, -6]\n",
      "[10154, 147, 44, 'Out of State', 25, 6, 'Miami Tridents', 30, '2023-05-07', 2023, False, 1836, 1736, -7]\n",
      "[10155, 147, 44, 'Out of State', 36, 6, 'Miami Tridents', 21, '2023-06-03', 2023, False, 1843, 1743, 12]\n",
      "[10339, 158, 44, 'Out of State', 29, 10, 'Pelicans', 45, '2023-12-09', 2024, False, 1809, 1709, -15]\n",
      "[11479, 159, 102, 'Okapi Rugby', 26, 104, 'Jacksonville Wolverines ', 0, '2024-02-03', 2024, False, 1806, 1495, 7]\n",
      "[11549, 170, 102, 'Okapi Rugby', 45, 55, 'Boca Raton Juniors', 15, '2024-02-03', 2024, False, 1813, 1649, 15]\n",
      "[11514, 160, 102, 'Okapi Rugby', 38, 104, 'Jacksonville Wolverines ', 0, '2024-02-03', 2024, False, 1828, 1488, 8]\n",
      "[11551, 170, 102, 'Okapi Rugby', 62, 100, 'Wellington Wizards', 0, '2024-02-10', 2024, False, 1836, 1424, 8]\n",
      "[11484, 159, 102, 'Okapi Rugby', 45, 100, 'Wellington Wizards', 0, '2024-02-17', 2024, False, 1844, 1405, 5]\n",
      "[11517, 160, 102, 'Okapi Rugby', 45, 100, 'Wellington Wizards', 0, '2024-02-17', 2024, False, 1849, 1400, 5]\n",
      "[11520, 160, 102, 'Okapi Rugby', 17, 42, 'KB Rugby Rats', 19, '2024-02-24', 2024, True, 1854, 1559, -11]\n",
      "[11488, 159, 102, 'Okapi Rugby', 44, 42, 'KB Rugby Rats', 18, '2024-02-24', 2024, True, 1845, 1568, 3]\n",
      "[11553, 170, 102, 'Okapi Rugby', 20, 42, 'KB Rugby Rats', 0, '2024-02-24', 2024, True, 1843, 1570, 2]\n",
      "[11592, 158, 44, 'Out of State', 0, 102, 'Okapi Rugby', 46, '2024-02-25', 2024, False, 1948, 1848, -32]\n",
      "[11592, 158, 102, 'Okapi Rugby', 46, 44, 'Out of State', 0, '2024-02-25', 2024, True, 1848, 1948, 32]\n",
      "[11502, 158, 102, 'Okapi Rugby', 34, 44, 'Out of State', 10, '2024-02-25', 2024, True, 1880, 1980, 20]\n",
      "[11502, 158, 44, 'Out of State', 10, 102, 'Okapi Rugby', 34, '2024-02-25', 2024, False, 1980, 1880, -20]\n",
      "[11522, 160, 102, 'Okapi Rugby', 36, 55, 'Boca Raton Juniors', 12, '2024-03-02', 2024, True, 1900, 1580, 2]\n",
      "[11555, 170, 102, 'Okapi Rugby', 45, 55, 'Boca Raton Juniors', 10, '2024-03-02', 2024, True, 1902, 1578, 3]\n",
      "[11495, 159, 102, 'Okapi Rugby', 27, 7, 'Tampa Krewe', 7, '2024-03-09', 2024, False, 1905, 1620, 6]\n",
      "[11496, 159, 102, 'Okapi Rugby', 47, 96, 'Cardinal Gibbons ', 0, '2024-03-16', 2024, True, 1911, 1547, 3]\n",
      "[11561, 158, 102, 'Okapi Rugby', 46, 100, 'Wellington Wizards', 7, '2024-04-06', 2024, False, 1914, 1391, 3]\n",
      "[11603, 157, 6, 'Miami Tridents', 34, 76, 'Palm Beach', 6, '2024-04-13', 2024, True, 1810, 1686, 8]\n",
      "[11501, 159, 102, 'Okapi Rugby', 20, 55, 'Boca Raton Juniors', 0, '2024-04-13', 2024, True, 1917, 1590, 2]\n",
      "[11556, 170, 102, 'Okapi Rugby', 38, 42, 'KB Rugby Rats', 8, '2024-04-13', 2024, True, 1919, 1598, 2]\n",
      "[11609, 157, 6, 'Miami Tridents', 67, 10, 'Pelicans', 14, '2024-04-20', 2024, True, 1818, 1641, 9]\n",
      "[11617, 170, 102, 'Okapi Rugby', 45, 100, 'Wellington Wizards', 0, '2024-04-27', 2024, True, 1921, 1373, 0]\n",
      "[11614, 160, 102, 'Okapi Rugby', 45, 100, 'Wellington Wizards', 10, '2024-04-27', 2024, True, 1921, 1373, 0]\n",
      "[11615, 159, 102, 'Okapi Rugby', 15, 42, 'KB Rugby Rats', 13, '2024-04-27', 2024, True, 1921, 1604, 0]\n",
      "[11624, 170, 102, 'Okapi Rugby', 78, 55, 'Boca Raton Juniors', 7, '2024-05-04', 2024, True, 1921, 1595, 5]\n",
      "[11622, 159, 102, 'Okapi Rugby', 53, 104, 'Jacksonville Wolverines ', 3, '2024-05-04', 2024, True, 1913, 1492, 2]\n",
      "[11623, 160, 102, 'Okapi Rugby', 10, 42, 'KB Rugby Rats', 13, '2024-05-04', 2024, True, 1926, 1604, -13]\n",
      "[11620, 157, 6, 'Miami Tridents', 36, 44, 'Out of State', 17, '2024-05-04', 2024, True, 1827, 1927, 17]\n",
      "[11620, 157, 44, 'Out of State', 17, 6, 'Miami Tridents', 36, '2024-05-04', 2024, False, 1927, 1827, -17]\n",
      "[11627, 162, 44, 'Out of State', 18, 24, 'Brevard', 14, '2024-05-05', 2024, False, 1802, 1702, 5]\n",
      "[11625, 157, 6, 'Miami Tridents', 29, 44, 'Out of State', 26, '2024-05-05', 2024, True, 1844, 1944, 6]\n",
      "[11625, 157, 44, 'Out of State', 26, 6, 'Miami Tridents', 29, '2024-05-05', 2024, False, 1944, 1844, -6]\n",
      "[11631, 157, 44, 'Out of State', 21, 6, 'Miami Tridents', 34, '2024-05-18', 2024, False, 1950, 1850, -13]\n",
      "[11631, 157, 6, 'Miami Tridents', 34, 44, 'Out of State', 21, '2024-05-18', 2024, True, 1850, 1950, 13]\n",
      "[11632, 157, 6, 'Miami Tridents', 38, 44, 'Out of State', 10, '2024-05-19', 2024, True, 1863, 1963, 22]\n",
      "[11630, 161, 44, 'Out of State', 14, 7, 'Tampa Krewe', 59, '2024-05-19', 2024, False, 1809, 1709, -32]\n",
      "[11632, 157, 44, 'Out of State', 10, 6, 'Miami Tridents', 38, '2024-05-19', 2024, False, 1963, 1863, -22]\n"
     ]
    }
   ],
   "source": [
    "for i, row in sus.iterrows():\n",
    "    # print nice table\n",
    "    print(list(row))"
   ]
  },
  {
   "cell_type": "code",
   "execution_count": 94,
   "metadata": {},
   "outputs": [],
   "source": [
    "# Group by Team_Name and count total games\n",
    "season_2024 = results_df[results_df['Season'] == 2024]\n",
    "team_games = season_2024.groupby('Team_Name').size().reset_index(name='Total_Games')"
   ]
  },
  {
   "cell_type": "code",
   "execution_count": 95,
   "metadata": {},
   "outputs": [
    {
     "name": "stdout",
     "output_type": "stream",
     "text": [
      "['Ave Maria', 6]\n",
      "['Boca Raton', 11]\n",
      "['Boca Raton Juniors', 23]\n",
      "['Brevard', 12]\n",
      "['Cardinal Gibbons ', 9]\n",
      "['Claymores RFC', 7]\n",
      "['Daytona M', 11]\n",
      "['Eckerd Rugby M', 13]\n",
      "['Eckerd Rugby W', 6]\n",
      "['FAU Rugby Men', 13]\n",
      "['FIU M', 8]\n",
      "['FIU W', 2]\n",
      "['Florida State M', 13]\n",
      "['Florida State W', 4]\n",
      "['Fort Miami', 7]\n",
      "['Ft. Lauderdale', 9]\n",
      "['Gainesville Hogs', 11]\n",
      "['Hammerheads', 11]\n",
      "['Jacksonville M', 10]\n",
      "['Jacksonville W', 9]\n",
      "['Jacksonville Wolverines ', 14]\n",
      "['KB Rugby Rats', 34]\n",
      "['Lakeland', 5]\n",
      "['Miami Rugby FC', 8]\n",
      "['Miami Tridents', 19]\n",
      "['Millennia', 6]\n",
      "['Okapi Rugby', 38]\n",
      "['Orlando RFC', 19]\n",
      "['Out of State', 19]\n",
      "['Palm Beach', 10]\n",
      "['Pelicans', 19]\n",
      "['Sarasota', 7]\n",
      "['St. Thomas', 16]\n",
      "['Tallahassee RFC', 6]\n",
      "['Tampa Krewe', 33]\n",
      "['Treasure Coast Armada', 6]\n",
      "['UCF M', 15]\n",
      "['UCF W', 5]\n",
      "['UF Men', 14]\n",
      "['UF Women', 5]\n",
      "['UM Men', 7]\n",
      "['UM Women', 1]\n",
      "['UNF RFC', 13]\n",
      "['USF - W', 2]\n",
      "['USF M', 12]\n",
      "['Wellington Wizards', 24]\n"
     ]
    }
   ],
   "source": [
    "for i, row in team_games.iterrows():\n",
    "    print(list(row))"
   ]
  },
  {
   "cell_type": "code",
   "execution_count": 97,
   "metadata": {},
   "outputs": [
    {
     "name": "stdout",
     "output_type": "stream",
     "text": [
      "[10343, 158, 10, 'Pelicans', 33, 40, 'Gainesville Hogs', 10, Timestamp('2023-10-21 00:00:00'), 2024, True, 1500, 1500, 0]\n",
      "[10342, 158, 10, 'Pelicans', 17, 24, 'Brevard', 7, Timestamp('2023-10-21 00:00:00'), 2024, False, 1500, 1500, 0]\n",
      "[10340, 158, 10, 'Pelicans', 33, 7, 'Tampa Krewe', 17, Timestamp('2023-10-27 00:00:00'), 2024, True, 1500, 1500, 0]\n",
      "[10339, 158, 10, 'Pelicans', 45, 44, 'Out of State', 29, Timestamp('2023-12-09 00:00:00'), 2024, True, 1500, 1500, 0]\n",
      "[10310, 162, 10, 'Pelicans', 17, 117, 'Claymores RFC', 17, Timestamp('2024-01-20 00:00:00'), 2024, True, 1500, 1500, 0]\n",
      "[10300, 157, 10, 'Pelicans', 23, 11, 'Orlando RFC', 5, Timestamp('2024-01-20 00:00:00'), 2024, True, 1500, 1500, 0]\n",
      "[10316, 162, 10, 'Pelicans', 19, 75, 'Treasure Coast Armada', 19, Timestamp('2024-01-27 00:00:00'), 2024, True, 1500, 1500, 0]\n",
      "[10233, 157, 10, 'Pelicans', 23, 7, 'Tampa Krewe', 14, Timestamp('2024-01-27 00:00:00'), 2024, True, 1500, 1500, 0]\n",
      "[10319, 162, 10, 'Pelicans', 3, 24, 'Brevard', 29, Timestamp('2024-02-17 00:00:00'), 2024, False, 1500, 1500, 0]\n",
      "[10240, 157, 10, 'Pelicans', 60, 1, 'Miami Rugby FC', 0, Timestamp('2024-02-17 00:00:00'), 2024, False, 1500, 1500, 0]\n",
      "[10326, 162, 10, 'Pelicans', 13, 60, 'Sarasota', 40, Timestamp('2024-02-24 00:00:00'), 2024, False, 1500, 1500, 0]\n",
      "[10244, 157, 10, 'Pelicans', 28, 76, 'Palm Beach', 23, Timestamp('2024-02-24 00:00:00'), 2024, False, 1500, 1500, 0]\n",
      "[10248, 157, 10, 'Pelicans', 47, 13, 'Hammerheads', 48, Timestamp('2024-03-02 00:00:00'), 2024, False, 1500, 1500, 0]\n",
      "[10330, 162, 10, 'Pelicans', 0, 115, 'Lakeland', 61, Timestamp('2024-03-02 00:00:00'), 2024, False, 1500, 1500, 0]\n",
      "[10306, 157, 10, 'Pelicans', 7, 6, 'Miami Tridents', 58, Timestamp('2024-03-16 00:00:00'), 2024, False, 1500, 1500, 0]\n",
      "[10253, 157, 10, 'Pelicans', 69, 5, 'Ft. Lauderdale', 10, Timestamp('2024-03-23 00:00:00'), 2024, True, 1500, 1500, 0]\n",
      "[10257, 157, 10, 'Pelicans', 58, 12, 'Boca Raton', 7, Timestamp('2024-04-06 00:00:00'), 2024, True, 1500, 1500, 0]\n",
      "[11604, 157, 10, 'Pelicans', 38, 13, 'Hammerheads', 36, Timestamp('2024-04-13 00:00:00'), 2024, False, 1500, 1500, 0]\n",
      "[11609, 157, 10, 'Pelicans', 14, 6, 'Miami Tridents', 67, Timestamp('2024-04-20 00:00:00'), 2024, False, 1500, 1500, 0]\n"
     ]
    }
   ],
   "source": [
    "for i, row in season_2024[season_2024['Team_Name']=='Pelicans'].iterrows():\n",
    "    print(list(row))"
   ]
  },
  {
   "cell_type": "code",
   "execution_count": null,
   "metadata": {},
   "outputs": [],
   "source": []
  }
 ],
 "metadata": {
  "kernelspec": {
   "display_name": "base",
   "language": "python",
   "name": "python3"
  },
  "language_info": {
   "codemirror_mode": {
    "name": "ipython",
    "version": 3
   },
   "file_extension": ".py",
   "mimetype": "text/x-python",
   "name": "python",
   "nbconvert_exporter": "python",
   "pygments_lexer": "ipython3",
   "version": "3.11.4"
  }
 },
 "nbformat": 4,
 "nbformat_minor": 2
}
