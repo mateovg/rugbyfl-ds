{
 "cells": [
  {
   "cell_type": "markdown",
   "metadata": {},
   "source": [
    "Rugby FL DS"
   ]
  },
  {
   "cell_type": "code",
   "execution_count": 1,
   "metadata": {},
   "outputs": [],
   "source": [
    "import pandas as pd"
   ]
  },
  {
   "cell_type": "code",
   "execution_count": 2,
   "metadata": {},
   "outputs": [],
   "source": [
    "# TODO: Import the newest data from the database\n"
   ]
  },
  {
   "cell_type": "code",
   "execution_count": 3,
   "metadata": {},
   "outputs": [
    {
     "name": "stdout",
     "output_type": "stream",
     "text": [
      "Dropping 0 games with 0-0 scores\n",
      "Dropping 1 games with scores over 200\n",
      "Dropping 17 games with Miami Sharks\n",
      "Final count of games 3036\n"
     ]
    }
   ],
   "source": [
    "results_df = pd.read_csv('results.csv')\n",
    "\n",
    "results_df['game_date'] = pd.to_datetime(results_df['game_date'])\n",
    "results_df['season'] = results_df['game_date'].dt.year + 1 * (results_df['game_date'].dt.month >= 9)\n",
    "\n",
    "# Drop any 0-0 games, has to be OR\n",
    "drop = results_df[(results_df['home_score'] == 0) & (results_df['away_score'] == 0)]\n",
    "print(f\"Dropping {len(drop)} games with 0-0 scores\")\n",
    "results_df = results_df[(results_df['home_score'] != 0) | (results_df['away_score'] != 0)]\n",
    "\n",
    "# Drop any game with scores over 200\n",
    "drop = results_df[(results_df['home_score'] > 200) | (results_df['away_score'] > 200)]\n",
    "print(f\"Dropping {len(drop)} games with scores over 200\")\n",
    "results_df = results_df[(results_df['home_score'] <= 200) & (results_df['away_score'] <= 200)]\n",
    "\n",
    "# Drop any games with Miami Sharks\n",
    "drop = results_df[(results_df['home_club'] == 'Miami Sharks')\n",
    "                  | (results_df['away_club'] == 'Miami Sharks')]\n",
    "print(f\"Dropping {len(drop)} games with Miami Sharks\")\n",
    "results_df = results_df[(results_df['home_club'] != 'Miami Sharks') & (\n",
    "    results_df['away_club'] != 'Miami Sharks')]\n",
    "\n",
    "# Fix divisions where missing, set it to the most common for that team\n",
    "results_df['home_division'] = results_df['home_division'].fillna(\n",
    "    results_df.groupby('home_club')['home_division'].transform(lambda x: x.value_counts().idxmax()))\n",
    "results_df['away_division'] = results_df['away_division'].fillna(\n",
    "    results_df.groupby('away_club')['away_division'].transform(lambda x: x.value_counts().idxmax()))\n",
    "results_df.dropna(subset=['home_division', 'away_division'], inplace=True)\n",
    "\n",
    "# Make divisions relative for each team, so if home is at their highest division, it's 0, one lower is 1, etc\n",
    "results_df['home_divsion'] = results_df['home_division'].astype('category')\n",
    "results_df['away_divsion'] = results_df['away_division'].astype('category')\n",
    "\n",
    "results_df['home_club'] = results_df['home_club'].str.strip()\n",
    "results_df['away_club'] = results_df['away_club'].str.strip()\n",
    "\n",
    "results_df['home_elo'] = 1500\n",
    "results_df['away_elo'] = 1500\n",
    "results_df['elo_change'] = 0\n",
    "results_df['margin'] = results_df['home_score'] - results_df['away_score']\n",
    "\n",
    "# Sort by date\n",
    "results_df = results_df.sort_values(by='game_date')\n",
    "\n",
    "results_df.to_csv('rugbyfl_data.csv', index=False)\n",
    "\n",
    "print(f\"Final count of games {results_df.shape[0]}\")"
   ]
  }
 ],
 "metadata": {
  "kernelspec": {
   "display_name": "base",
   "language": "python",
   "name": "python3"
  },
  "language_info": {
   "codemirror_mode": {
    "name": "ipython",
    "version": 3
   },
   "file_extension": ".py",
   "mimetype": "text/x-python",
   "name": "python",
   "nbconvert_exporter": "python",
   "pygments_lexer": "ipython3",
   "version": "3.12.4"
  }
 },
 "nbformat": 4,
 "nbformat_minor": 2
}
